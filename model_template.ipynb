{
 "cells": [
  {
   "cell_type": "code",
   "execution_count": 6,
   "id": "dccf49b1",
   "metadata": {},
   "outputs": [
    {
     "name": "stdout",
     "output_type": "stream",
     "text": [
      "🔧 MLflow URI: https://mlflow-server-571828190906.us-west1.run.app\n",
      "🔧 Model Name: MyModel\n",
      "🚀 Starting model registration...\n",
      "RMSE: 91705.6442\n"
     ]
    },
    {
     "name": "stderr",
     "output_type": "stream",
     "text": [
      "2025/07/23 00:23:16 WARNING mlflow.models.model: `artifact_path` is deprecated. Please use `name` instead.\n"
     ]
    },
    {
     "name": "stdout",
     "output_type": "stream",
     "text": [
      "Registering model as 'MyModel'...\n"
     ]
    },
    {
     "name": "stderr",
     "output_type": "stream",
     "text": [
      "\u001b[31m2025/07/23 00:23:18 WARNING mlflow.models.model: Model logged without a signature and input example. Please set `input_example` parameter when logging the model to auto infer the model signature.\u001b[0m\n",
      "/opt/anaconda3/envs/deployml/lib/python3.11/site-packages/google/auth/_default.py:76: UserWarning: Your application has authenticated using end user credentials from Google Cloud SDK without a quota project. You might receive a \"quota exceeded\" or \"API not enabled\" error. See the following page for troubleshooting: https://cloud.google.com/docs/authentication/adc-troubleshooting/user-creds. \n",
      "  warnings.warn(_CLOUD_SDK_CREDENTIALS_WARNING)\n",
      "/opt/anaconda3/envs/deployml/lib/python3.11/site-packages/google/auth/_default.py:76: UserWarning: Your application has authenticated using end user credentials from Google Cloud SDK without a quota project. You might receive a \"quota exceeded\" or \"API not enabled\" error. See the following page for troubleshooting: https://cloud.google.com/docs/authentication/adc-troubleshooting/user-creds. \n",
      "  warnings.warn(_CLOUD_SDK_CREDENTIALS_WARNING)\n",
      "Registered model 'MyModel' already exists. Creating a new version of this model...\n",
      "2025/07/23 00:23:24 INFO mlflow.store.model_registry.abstract_store: Waiting up to 300 seconds for model version to finish creation. Model name: MyModel, version 3\n",
      "Created version '3' of model 'MyModel'.\n"
     ]
    },
    {
     "name": "stdout",
     "output_type": "stream",
     "text": [
      "✅ Model registered! Run ID: 64637108629641e594e184bbd6c39a53\n",
      "🏃 View run quick_registration_002315 at: https://mlflow-server-571828190906.us-west1.run.app/#/experiments/1/runs/64637108629641e594e184bbd6c39a53\n",
      "🧪 View experiment at: https://mlflow-server-571828190906.us-west1.run.app/#/experiments/1\n",
      "Found version: 3\n",
      "Version 3 promoted to Production!\n",
      "Testing model loading from: models:/MyModel/Production\n"
     ]
    },
    {
     "name": "stderr",
     "output_type": "stream",
     "text": [
      "/var/folders/wl/j0ph6fln0tqbkwlm5_hc43d00000gn/T/ipykernel_2970/2400561755.py:114: FutureWarning: ``mlflow.tracking.client.MlflowClient.transition_model_version_stage`` is deprecated since 2.9.0. Model registry stages will be removed in a future major release. To learn more about the deprecation of model registry stages, see our migration guide here: https://mlflow.org/docs/latest/model-registry.html#migrating-from-stages\n",
      "  client.transition_model_version_stage(\n",
      "/opt/anaconda3/envs/deployml/lib/python3.11/site-packages/google/auth/_default.py:76: UserWarning: Your application has authenticated using end user credentials from Google Cloud SDK without a quota project. You might receive a \"quota exceeded\" or \"API not enabled\" error. See the following page for troubleshooting: https://cloud.google.com/docs/authentication/adc-troubleshooting/user-creds. \n",
      "  warnings.warn(_CLOUD_SDK_CREDENTIALS_WARNING)\n",
      "/opt/anaconda3/envs/deployml/lib/python3.11/site-packages/google/auth/_default.py:76: UserWarning: Your application has authenticated using end user credentials from Google Cloud SDK without a quota project. You might receive a \"quota exceeded\" or \"API not enabled\" error. See the following page for troubleshooting: https://cloud.google.com/docs/authentication/adc-troubleshooting/user-creds. \n",
      "  warnings.warn(_CLOUD_SDK_CREDENTIALS_WARNING)\n",
      "Downloading artifacts: 100%|██████████| 5/5 [00:00<00:00,  9.11it/s]"
     ]
    },
    {
     "name": "stdout",
     "output_type": "stream",
     "text": [
      "✅ Model loaded successfully!\n",
      "🔮 Sample predictions: [101847.84 101924.73 101973.04 102158.57 102133.29]\n",
      "\n",
      "🎉 SUCCESS! Your model is ready for Cloud Run!\n",
      "📋 Use this in your Cloud Run app:\n",
      "    model = mlflow.pyfunc.load_model('models:/MyModel/Production')\n",
      "\n",
      "📊 MLflow UI: https://mlflow-server-571828190906.us-west1.run.app\n"
     ]
    },
    {
     "name": "stderr",
     "output_type": "stream",
     "text": [
      "\n",
      "/opt/anaconda3/envs/deployml/lib/python3.11/site-packages/sklearn/utils/validation.py:2749: UserWarning: X does not have valid feature names, but RandomForestRegressor was fitted with feature names\n",
      "  warnings.warn(\n"
     ]
    }
   ],
   "source": [
    "# Simple MLflow Model Registration - Notebook Ready\n",
    "import mlflow\n",
    "import mlflow.sklearn\n",
    "import mlflow.pyfunc\n",
    "from mlflow.tracking import MlflowClient\n",
    "\n",
    "from sklearn.model_selection import train_test_split\n",
    "from sklearn.ensemble import RandomForestRegressor\n",
    "from sklearn.preprocessing import LabelEncoder\n",
    "from sklearn.metrics import root_mean_squared_error\n",
    "import pandas as pd\n",
    "import numpy as np\n",
    "from datetime import datetime\n",
    "\n",
    "# =============================================================================\n",
    "# CONFIGURATION - UPDATE THESE VALUES\n",
    "# =============================================================================\n",
    "MLFLOW_TRACKING_URI = \"https://mlflow-server-571828190906.us-west1.run.app\"  # Replace with your MLflow server\n",
    "MODEL_NAME = \"MyModel\"  \n",
    "EXPERIMENT_NAME = \"model-serving-experiment\"\n",
    "\n",
    "# Set up MLflow\n",
    "mlflow.set_tracking_uri(MLFLOW_TRACKING_URI)\n",
    "mlflow.set_experiment(EXPERIMENT_NAME)\n",
    "\n",
    "print(f\"🔧 MLflow URI: {MLFLOW_TRACKING_URI}\")\n",
    "print(f\"🔧 Model Name: {MODEL_NAME}\")\n",
    "\n",
    "# =============================================================================\n",
    "# STEP 1: TRAIN AND REGISTER MODEL\n",
    "# =============================================================================\n",
    "\n",
    "def quick_model_registration():\n",
    "    \"\"\"Quick model training and registration\"\"\"\n",
    "    \n",
    "    with mlflow.start_run(run_name=f\"quick_registration_{datetime.now().strftime('%H%M%S')}\"):\n",
    "        \n",
    "        # 1. Loading the supplied data in the /data directory\n",
    "        data = pd.read_csv('data/us_house_Sales_data.csv')\n",
    "\n",
    "        # 1.5 Prepping the data for training\n",
    "        data['Price'] = data['Price'].replace(r'[\\$,]','',regex=True).astype(int)\n",
    "        data.drop(columns=['Address', 'MLS ID', 'Listing URL'], axis=1, inplace=True)\n",
    "\n",
    "        label_encoders = {}\n",
    "        for col in ['City', 'State', 'Property Type', 'Listing Agent', 'Status']:\n",
    "            le = LabelEncoder()\n",
    "            data[col] = le.fit_transform(data[col])\n",
    "            label_encoders[col] = le # Stores this in the label_encoders dict earlier\n",
    "\n",
    "        data['Bedrooms'] = data['Bedrooms'].str.extract(r'(\\d+)').astype(int)\n",
    "        data['Bathrooms'] = data['Bathrooms'].str.extract(r'(\\d+)').astype(int)\n",
    "\n",
    "        for col in ['Area (Sqft)', 'Lot Size']:\n",
    "            data[col] = data[col].str.replace('sqft', '').str.replace(',','').str.extract(r'(\\d+)').astype(int)\n",
    "\n",
    "        # Encoding zipcode based on the target variable 'Price', which will lead to data leakage, but oh well\n",
    "        data['Zipcode_encoded'] = data.groupby('Zipcode')['Price'].transform('mean')\n",
    "        data.drop(columns=['Zipcode'], axis = 1, inplace=True)\n",
    "\n",
    "        # 2. Train model (replace with your model)\n",
    "        X = data.drop(columns = ['Price'], axis = 1)\n",
    "        y = data['Price']\n",
    "\n",
    "        X_train, X_test, y_train, y_test = train_test_split(X, y, test_size=.2, random_state=42)\n",
    "\n",
    "        model = RandomForestRegressor(n_estimators=100, random_state= 42, n_jobs=-1)\n",
    "        model.fit(X_train, y_train)\n",
    "        \n",
    "        # 3. Evaluate\n",
    "        y_pred = model.predict(X_test)\n",
    "        rmse = root_mean_squared_error(y_test, y_pred)\n",
    "        print(f\"RMSE: {rmse:.4f}\")\n",
    "        \n",
    "        # 4. Log parameters and metrics\n",
    "        mlflow.log_param(\"model_type\", \"RandomForestRegressor\")\n",
    "        mlflow.log_param(\"n_estimators\", 100)\n",
    "        mlflow.log_metric(\"rmse\", rmse)\n",
    "        \n",
    "        # 5. Register model\n",
    "        print(f\"Registering model as '{MODEL_NAME}'...\")\n",
    "        mlflow.sklearn.log_model(\n",
    "            sk_model=model,\n",
    "            artifact_path=\"model\",\n",
    "            registered_model_name=MODEL_NAME\n",
    "        )\n",
    "        \n",
    "        run_id = mlflow.active_run().info.run_id\n",
    "        print(f\"✅ Model registered! Run ID: {run_id}\")\n",
    "        \n",
    "        return run_id, model\n",
    "\n",
    "# =============================================================================\n",
    "# STEP 2: PROMOTE TO PRODUCTION\n",
    "# =============================================================================\n",
    "\n",
    "def promote_to_production(model_name, run_id=None):\n",
    "    \"\"\"Promote latest model version to Production\"\"\"\n",
    "    \n",
    "    client = MlflowClient()\n",
    "    \n",
    "    # Get the latest version\n",
    "    try:\n",
    "        if run_id:\n",
    "            versions = client.search_model_versions(f\"run_id='{run_id}'\")\n",
    "            version = versions[0].version\n",
    "        else:\n",
    "            latest_versions = client.get_latest_versions(model_name, stages=[\"None\"])\n",
    "            version = latest_versions[0].version\n",
    "        \n",
    "        print(f\"Found version: {version}\")\n",
    "        \n",
    "        # Transition to Production\n",
    "        client.transition_model_version_stage(\n",
    "            name=model_name,\n",
    "            version=version,\n",
    "            stage=\"Production\"\n",
    "        )\n",
    "        \n",
    "        print(f\"Version {version} promoted to Production!\")\n",
    "        return version\n",
    "        \n",
    "    except Exception as e:\n",
    "        print(f\"Error promoting model: {e}\")\n",
    "        return None\n",
    "\n",
    "# =============================================================================\n",
    "# STEP 3: TEST LOADING\n",
    "# =============================================================================\n",
    "\n",
    "def test_model_loading(model_name, stage=\"Production\"):\n",
    "    \"\"\"Test loading the registered model\"\"\"\n",
    "    \n",
    "    model_uri = f\"models:/{model_name}/{stage}\"\n",
    "    print(f\"Testing model loading from: {model_uri}\")\n",
    "    \n",
    "    try:\n",
    "        # Load model\n",
    "        loaded_model = mlflow.pyfunc.load_model(model_uri)\n",
    "        print(\"✅ Model loaded successfully!\")\n",
    "        \n",
    "        # Test prediction with sample data\n",
    "        test_data = np.random.rand(5, 12)  # 5 samples, 20 features\n",
    "        predictions = loaded_model.predict(test_data)\n",
    "        print(f\"🔮 Sample predictions: {predictions}\")\n",
    "        \n",
    "        return True\n",
    "        \n",
    "    except Exception as e:\n",
    "        print(f\"❌ Model loading failed: {e}\")\n",
    "        return False\n",
    "\n",
    "# =============================================================================\n",
    "# EXECUTION - RUN THIS SECTION\n",
    "# =============================================================================\n",
    "\n",
    "print(\"🚀 Starting model registration...\")\n",
    "\n",
    "# Step 1: Train and register\n",
    "run_id, trained_model = quick_model_registration()\n",
    "\n",
    "# Step 2: Promote to production\n",
    "version = promote_to_production(MODEL_NAME, run_id)\n",
    "\n",
    "# Step 3: Test loading\n",
    "if version:\n",
    "    success = test_model_loading(MODEL_NAME, \"Production\")\n",
    "    \n",
    "    if success:\n",
    "        print(f\"\\n🎉 SUCCESS! Your model is ready for Cloud Run!\")\n",
    "        print(f\"📋 Use this in your Cloud Run app:\")\n",
    "        print(f\"    model = mlflow.pyfunc.load_model('models:/{MODEL_NAME}/Production')\")\n",
    "    else:\n",
    "        print(f\"\\n⚠️ Model registered but loading failed. Check your MLflow server.\")\n",
    "else:\n",
    "    print(f\"\\n❌ Failed to promote model to production.\")\n",
    "\n",
    "print(f\"\\n📊 MLflow UI: {MLFLOW_TRACKING_URI}\")"
   ]
  },
  {
   "cell_type": "code",
   "execution_count": 11,
   "id": "9f5efb8c",
   "metadata": {},
   "outputs": [],
   "source": [
    "# 1. Loading the supplied data in the /data directory\n",
    "data = pd.read_csv('data/us_house_Sales_data.csv')\n",
    "\n",
    "# 1.5 Prepping the data for training\n",
    "data['Price'] = data['Price'].replace(r'[\\$,]','',regex=True).astype(int)\n",
    "data.drop(columns=['Address', 'MLS ID', 'Listing URL'], axis=1, inplace=True)\n",
    "\n",
    "label_encoders = {}\n",
    "for col in ['City', 'State', 'Property Type', 'Listing Agent', 'Status']:\n",
    "    le = LabelEncoder()\n",
    "    data[col] = le.fit_transform(data[col])\n",
    "    label_encoders[col] = le # Stores this in the label_encoders dict earlier\n",
    "\n",
    "data['Bedrooms'] = data['Bedrooms'].str.extract(r'(\\d+)').astype(int)\n",
    "data['Bathrooms'] = data['Bathrooms'].str.extract(r'(\\d+)').astype(int)\n",
    "\n",
    "for col in ['Area (Sqft)', 'Lot Size']:\n",
    "    data[col] = data[col].str.replace('sqft', '').str.replace(',','').str.extract(r'(\\d+)').astype(int)\n",
    "\n",
    "# Encoding zipcode based on the target variable 'Price', which will lead to data leakage, but oh well\n",
    "data['Zipcode_encoded'] = data.groupby('Zipcode')['Price'].transform('mean')\n",
    "data.drop(columns=['Zipcode'], axis = 1, inplace=True)\n",
    "\n",
    "# 2. Train model (replace with your model)\n",
    "X = data.drop(columns = ['Price'], axis = 1)\n",
    "y = data['Price']\n",
    "\n",
    "X_train, X_test, y_train, y_test = train_test_split(X, y, test_size=.2, random_state=42)"
   ]
  },
  {
   "cell_type": "code",
   "execution_count": 23,
   "id": "236b488d",
   "metadata": {},
   "outputs": [
    {
     "name": "stderr",
     "output_type": "stream",
     "text": [
      "/opt/anaconda3/envs/deployml/lib/python3.11/site-packages/google/auth/_default.py:76: UserWarning: Your application has authenticated using end user credentials from Google Cloud SDK without a quota project. You might receive a \"quota exceeded\" or \"API not enabled\" error. See the following page for troubleshooting: https://cloud.google.com/docs/authentication/adc-troubleshooting/user-creds. \n",
      "  warnings.warn(_CLOUD_SDK_CREDENTIALS_WARNING)\n",
      "/opt/anaconda3/envs/deployml/lib/python3.11/site-packages/google/auth/_default.py:76: UserWarning: Your application has authenticated using end user credentials from Google Cloud SDK without a quota project. You might receive a \"quota exceeded\" or \"API not enabled\" error. See the following page for troubleshooting: https://cloud.google.com/docs/authentication/adc-troubleshooting/user-creds. \n",
      "  warnings.warn(_CLOUD_SDK_CREDENTIALS_WARNING)\n",
      "Downloading artifacts: 100%|██████████| 5/5 [00:00<00:00,  8.08it/s]"
     ]
    },
    {
     "name": "stdout",
     "output_type": "stream",
     "text": [
      "mlflow.pyfunc.loaded_model:\n",
      "  artifact_path: gs://jaguar-bucket-deployml-2025-id14/1/models/m-b292d89845364e979459e65093fa74eb/artifacts\n",
      "  flavor: mlflow.sklearn\n",
      "  run_id: 64637108629641e594e184bbd6c39a53\n",
      "\n"
     ]
    },
    {
     "name": "stderr",
     "output_type": "stream",
     "text": [
      "\n"
     ]
    }
   ],
   "source": [
    "import mlflow.pyfunc\n",
    "\n",
    "MLFLOW_TRACKING_URI = \"https://mlflow-server-571828190906.us-west1.run.app\"\n",
    "mlflow.set_tracking_uri(MLFLOW_TRACKING_URI)\n",
    "\n",
    "# Model configuration - Updated to use Model Registry\n",
    "MODEL_NAME = \"MyModel\"\n",
    "MODEL_STAGE = \"Production\"  # or \"Staging\"\n",
    "MODEL_URI = f\"models:/{MODEL_NAME}/{MODEL_STAGE}\"\n",
    "\n",
    "model = mlflow.pyfunc.load_model(MODEL_URI)\n",
    "model_version = mlflow.MlflowClient().get_model_version(MODEL_NAME, \"3\")  # Get latest version\n",
    "print(model)"
   ]
  },
  {
   "cell_type": "code",
   "execution_count": 27,
   "id": "9c92ee2e",
   "metadata": {},
   "outputs": [
    {
     "data": {
      "text/plain": [
       "array([1449218.29,  601042.65, 1088662.58, ...,  695706.88,  951554.41,\n",
       "       1285890.59], shape=(2400,))"
      ]
     },
     "execution_count": 27,
     "metadata": {},
     "output_type": "execute_result"
    }
   ],
   "source": [
    "model.predict(X_train)"
   ]
  },
  {
   "cell_type": "code",
   "execution_count": null,
   "id": "7366356e",
   "metadata": {},
   "outputs": [
    {
     "data": {
      "text/plain": [
       "City                    1.0\n",
       "State                   0.0\n",
       "Bedrooms                6.0\n",
       "Bathrooms               2.0\n",
       "Area (Sqft)          2299.0\n",
       "Lot Size             1931.0\n",
       "Year Built           1987.0\n",
       "Days on Market         67.0\n",
       "Property Type           0.0\n",
       "Listing Agent           3.0\n",
       "Status                  2.0\n",
       "Zipcode_encoded    262341.0\n",
       "Name: 1697, dtype: float64"
      ]
     },
     "execution_count": 22,
     "metadata": {},
     "output_type": "execute_result"
    }
   ],
   "source": [
    "# This code snippet is demonstrating how to register an existing trained model using MLflow and promote it to production. Here's a breakdown of what each part of the code is doing:\n",
    "# Quick registration of an existing trained model\n",
    "import mlflow\n",
    "import mlflow.sklearn\n",
    "\n",
    "# Assuming you already have a trained model called 'your_model'\n",
    "mlflow.set_tracking_uri(\"https://mlflow-server-571828190906.us-west1.run.app\")\n",
    "\n",
    "# Train your model first\n",
    "test_data = np.random.rand(5, 12)  # 5 samples, 20 features\n",
    "X_train.loc[1697]\n",
    "predictions = model.predict(test_data)\n",
    "print(f\"🔮 Sample predictions: {predictions}\")\n",
    "\n",
    "X_train, X_test, y_train, y_test = train_test_split(X, y, test_size=0.2)\n",
    "\n",
    "# This creates your_model\n",
    "your_model = RandomForestClassifier(n_estimators=100, random_state=42)\n",
    "your_model.fit(X_train, y_train)  # Now your_model is trained\n",
    "\n",
    "\n",
    "with mlflow.start_run():\n",
    "    mlflow.sklearn.log_model(\n",
    "        sk_model=your_model,  # Your existing trained model\n",
    "        artifact_path=\"model\",\n",
    "        registered_model_name=\"MyModel\"\n",
    "    )\n",
    "    \n",
    "    # Promote to production\n",
    "    from mlflow.tracking import MlflowClient\n",
    "    client = MlflowClient()\n",
    "    latest_version = client.get_latest_versions(\"MyModel\", stages=[\"None\"])[0]\n",
    "    client.transition_model_version_stage(\n",
    "        name=\"MyModel\",\n",
    "        version=latest_version.version,\n",
    "        stage=\"Production\"\n",
    "    )\n",
    "\n",
    "print(\"✅ Model registered and promoted to Production!\")"
   ]
  },
  {
   "cell_type": "code",
   "execution_count": 19,
   "id": "ef29a5aa",
   "metadata": {},
   "outputs": [
    {
     "data": {
      "text/plain": [
       "Index([ 642,  700,  226, 1697, 1010, 1572,  776, 1730, 2826, 2228,\n",
       "       ...\n",
       "       1482,  330, 1238,  466, 2169, 1638, 1095, 1130, 1294,  860],\n",
       "      dtype='int64', length=2400)"
      ]
     },
     "execution_count": 19,
     "metadata": {},
     "output_type": "execute_result"
    }
   ],
   "source": [
    "X_train.index"
   ]
  },
  {
   "cell_type": "code",
   "execution_count": null,
   "id": "9cf0120d",
   "metadata": {},
   "outputs": [],
   "source": []
  }
 ],
 "metadata": {
  "kernelspec": {
   "display_name": "deployml",
   "language": "python",
   "name": "python3"
  },
  "language_info": {
   "codemirror_mode": {
    "name": "ipython",
    "version": 3
   },
   "file_extension": ".py",
   "mimetype": "text/x-python",
   "name": "python",
   "nbconvert_exporter": "python",
   "pygments_lexer": "ipython3",
   "version": "3.11.13"
  }
 },
 "nbformat": 4,
 "nbformat_minor": 5
}
