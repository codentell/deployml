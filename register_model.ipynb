{
 "cells": [
  {
   "cell_type": "code",
   "execution_count": null,
   "id": "dccf49b1",
   "metadata": {},
   "outputs": [
    {
     "name": "stderr",
     "output_type": "stream",
     "text": [
      "2025/07/17 18:27:31 INFO mlflow.tracking.fluent: Experiment with name 'model-serving-experiment' does not exist. Creating a new experiment.\n"
     ]
    },
    {
     "name": "stdout",
     "output_type": "stream",
     "text": [
      "🔧 MLflow URI: https://mlflow-server-199520990934.us-west1.run.app\n",
      "🔧 Model Name: MyModel\n",
      "🚀 Starting model registration...\n",
      "📊 Creating sample data...\n",
      "🤖 Training model...\n",
      "📈 Accuracy: 0.9000\n"
     ]
    },
    {
     "name": "stderr",
     "output_type": "stream",
     "text": [
      "2025/07/17 18:27:34 WARNING mlflow.models.model: `artifact_path` is deprecated. Please use `name` instead.\n"
     ]
    },
    {
     "name": "stdout",
     "output_type": "stream",
     "text": [
      "📦 Registering model as 'MyModel'...\n"
     ]
    },
    {
     "name": "stderr",
     "output_type": "stream",
     "text": [
      "\u001b[31m2025/07/17 18:27:36 WARNING mlflow.models.model: Model logged without a signature and input example. Please set `input_example` parameter when logging the model to auto infer the model signature.\u001b[0m\n",
      "Successfully registered model 'MyModel'.\n",
      "2025/07/17 18:27:38 INFO mlflow.store.model_registry.abstract_store: Waiting up to 300 seconds for model version to finish creation. Model name: MyModel, version 1\n",
      "Created version '1' of model 'MyModel'.\n"
     ]
    },
    {
     "name": "stdout",
     "output_type": "stream",
     "text": [
      "✅ Model registered! Run ID: 0902656cfcf2438fa79623f33582373c\n",
      "🏃 View run quick_registration_182732 at: https://mlflow-server-199520990934.us-west1.run.app/#/experiments/1/runs/0902656cfcf2438fa79623f33582373c\n",
      "🧪 View experiment at: https://mlflow-server-199520990934.us-west1.run.app/#/experiments/1\n",
      "📋 Found version: 1\n",
      "🚀 Version 1 promoted to Production!\n",
      "🔄 Testing model loading from: models:/MyModel/Production\n"
     ]
    },
    {
     "name": "stderr",
     "output_type": "stream",
     "text": [
      "/var/folders/n_/3_x326jx1px01h5tp8dtcgzw0000gn/T/ipykernel_47375/946064162.py:91: FutureWarning: ``mlflow.tracking.client.MlflowClient.transition_model_version_stage`` is deprecated since 2.9.0. Model registry stages will be removed in a future major release. To learn more about the deprecation of model registry stages, see our migration guide here: https://mlflow.org/docs/latest/model-registry.html#migrating-from-stages\n",
      "  client.transition_model_version_stage(\n",
      "Downloading artifacts: 100%|██████████| 5/5 [00:00<00:00, 16.20it/s]"
     ]
    },
    {
     "name": "stdout",
     "output_type": "stream",
     "text": [
      "✅ Model loaded successfully!\n",
      "🔮 Sample predictions: [1 1 1 1 1]\n",
      "\n",
      "🎉 SUCCESS! Your model is ready for Cloud Run!\n",
      "📋 Use this in your Cloud Run app:\n",
      "    model = mlflow.pyfunc.load_model('models:/MyModel/Production')\n",
      "\n",
      "📊 MLflow UI: https://mlflow-server-199520990934.us-west1.run.app\n"
     ]
    },
    {
     "name": "stderr",
     "output_type": "stream",
     "text": [
      "\n"
     ]
    }
   ],
   "source": [
    "# Simple MLflow Model Registration - Notebook Ready\n",
    "import mlflow\n",
    "import mlflow.sklearn\n",
    "import mlflow.pyfunc\n",
    "from mlflow.tracking import MlflowClient\n",
    "from sklearn.ensemble import RandomForestClassifier\n",
    "from sklearn.datasets import make_classification\n",
    "from sklearn.model_selection import train_test_split\n",
    "from sklearn.metrics import accuracy_score\n",
    "import pandas as pd\n",
    "import numpy as np\n",
    "from datetime import datetime\n",
    "\n",
    "# =============================================================================\n",
    "# CONFIGURATION - UPDATE THESE VALUES\n",
    "# =============================================================================\n",
    "MLFLOW_TRACKING_URI = \"https://mlflow-server-199520990934.us-west1.run.app\"  # Replace with your MLflow server\n",
    "MODEL_NAME = \"MyModel\"  \n",
    "EXPERIMENT_NAME = \"model-serving-experiment\"\n",
    "\n",
    "# Set up MLflow\n",
    "mlflow.set_tracking_uri(MLFLOW_TRACKING_URI)\n",
    "mlflow.set_experiment(EXPERIMENT_NAME)\n",
    "\n",
    "print(f\"🔧 MLflow URI: {MLFLOW_TRACKING_URI}\")\n",
    "print(f\"🔧 Model Name: {MODEL_NAME}\")\n",
    "\n",
    "# =============================================================================\n",
    "# STEP 1: TRAIN AND REGISTER MODEL\n",
    "# =============================================================================\n",
    "\n",
    "def quick_model_registration():\n",
    "    \"\"\"Quick model training and registration\"\"\"\n",
    "    \n",
    "    with mlflow.start_run(run_name=f\"quick_registration_{datetime.now().strftime('%H%M%S')}\"):\n",
    "        \n",
    "        # 1. Create sample data (replace with your data)\n",
    "        print(\"Creating sample data...\")\n",
    "        X, y = make_classification(n_samples=1000, n_features=20, random_state=42)\n",
    "        X_train, X_test, y_train, y_test = train_test_split(X, y, test_size=0.2, random_state=42)\n",
    "        \n",
    "        # 2. Train model (replace with your model)\n",
    "        print(\"Training model...\")\n",
    "        model = RandomForestClassifier(n_estimators=100, random_state=42)\n",
    "        model.fit(X_train, y_train)\n",
    "        \n",
    "        # 3. Evaluate\n",
    "        y_pred = model.predict(X_test)\n",
    "        accuracy = accuracy_score(y_test, y_pred)\n",
    "        print(f\"Accuracy: {accuracy:.4f}\")\n",
    "        \n",
    "        # 4. Log parameters and metrics\n",
    "        mlflow.log_param(\"model_type\", \"RandomForestClassifier\")\n",
    "        mlflow.log_param(\"n_estimators\", 100)\n",
    "        mlflow.log_metric(\"accuracy\", accuracy)\n",
    "        \n",
    "        # 5. Register model\n",
    "        print(f\"Registering model as '{MODEL_NAME}'...\")\n",
    "        mlflow.sklearn.log_model(\n",
    "            sk_model=model,\n",
    "            artifact_path=\"model\",\n",
    "            registered_model_name=MODEL_NAME\n",
    "        )\n",
    "        \n",
    "        run_id = mlflow.active_run().info.run_id\n",
    "        print(f\"✅ Model registered! Run ID: {run_id}\")\n",
    "        \n",
    "        return run_id, model\n",
    "\n",
    "# =============================================================================\n",
    "# STEP 2: PROMOTE TO PRODUCTION\n",
    "# =============================================================================\n",
    "\n",
    "def promote_to_production(model_name, run_id=None):\n",
    "    \"\"\"Promote latest model version to Production\"\"\"\n",
    "    \n",
    "    client = MlflowClient()\n",
    "    \n",
    "    # Get the latest version\n",
    "    try:\n",
    "        if run_id:\n",
    "            versions = client.search_model_versions(f\"run_id='{run_id}'\")\n",
    "            version = versions[0].version\n",
    "        else:\n",
    "            latest_versions = client.get_latest_versions(model_name, stages=[\"None\"])\n",
    "            version = latest_versions[0].version\n",
    "        \n",
    "        print(f\"Found version: {version}\")\n",
    "        \n",
    "        # Transition to Production\n",
    "        client.transition_model_version_stage(\n",
    "            name=model_name,\n",
    "            version=version,\n",
    "            stage=\"Production\"\n",
    "        )\n",
    "        \n",
    "        print(f\"Version {version} promoted to Production!\")\n",
    "        return version\n",
    "        \n",
    "    except Exception as e:\n",
    "        print(f\"Error promoting model: {e}\")\n",
    "        return None\n",
    "\n",
    "# =============================================================================\n",
    "# STEP 3: TEST LOADING\n",
    "# =============================================================================\n",
    "\n",
    "def test_model_loading(model_name, stage=\"Production\"):\n",
    "    \"\"\"Test loading the registered model\"\"\"\n",
    "    \n",
    "    model_uri = f\"models:/{model_name}/{stage}\"\n",
    "    print(f\"Testing model loading from: {model_uri}\")\n",
    "    \n",
    "    try:\n",
    "        # Load model\n",
    "        loaded_model = mlflow.pyfunc.load_model(model_uri)\n",
    "        print(\"✅ Model loaded successfully!\")\n",
    "        \n",
    "        # Test prediction with sample data\n",
    "        test_data = np.random.rand(5, 20)  # 5 samples, 20 features\n",
    "        predictions = loaded_model.predict(test_data)\n",
    "        print(f\"🔮 Sample predictions: {predictions}\")\n",
    "        \n",
    "        return True\n",
    "        \n",
    "    except Exception as e:\n",
    "        print(f\"❌ Model loading failed: {e}\")\n",
    "        return False\n",
    "\n",
    "# =============================================================================\n",
    "# EXECUTION - RUN THIS SECTION\n",
    "# =============================================================================\n",
    "\n",
    "print(\"🚀 Starting model registration...\")\n",
    "\n",
    "# Step 1: Train and register\n",
    "run_id, trained_model = quick_model_registration()\n",
    "\n",
    "# Step 2: Promote to production\n",
    "version = promote_to_production(MODEL_NAME, run_id)\n",
    "\n",
    "# Step 3: Test loading\n",
    "if version:\n",
    "    success = test_model_loading(MODEL_NAME, \"Production\")\n",
    "    \n",
    "    if success:\n",
    "        print(f\"\\n🎉 SUCCESS! Your model is ready for Cloud Run!\")\n",
    "        print(f\"📋 Use this in your Cloud Run app:\")\n",
    "        print(f\"    model = mlflow.pyfunc.load_model('models:/{MODEL_NAME}/Production')\")\n",
    "    else:\n",
    "        print(f\"\\n⚠️ Model registered but loading failed. Check your MLflow server.\")\n",
    "else:\n",
    "    print(f\"\\n❌ Failed to promote model to production.\")\n",
    "\n",
    "print(f\"\\n📊 MLflow UI: {MLFLOW_TRACKING_URI}\")"
   ]
  },
  {
   "cell_type": "code",
   "execution_count": 4,
   "id": "7366356e",
   "metadata": {},
   "outputs": [
    {
     "name": "stderr",
     "output_type": "stream",
     "text": [
      "2025/07/17 18:27:43 WARNING mlflow.models.model: `artifact_path` is deprecated. Please use `name` instead.\n",
      "\u001b[31m2025/07/17 18:27:44 WARNING mlflow.models.model: Model logged without a signature and input example. Please set `input_example` parameter when logging the model to auto infer the model signature.\u001b[0m\n",
      "Registered model 'MyModel' already exists. Creating a new version of this model...\n",
      "2025/07/17 18:27:47 INFO mlflow.store.model_registry.abstract_store: Waiting up to 300 seconds for model version to finish creation. Model name: MyModel, version 2\n",
      "Created version '2' of model 'MyModel'.\n",
      "/var/folders/n_/3_x326jx1px01h5tp8dtcgzw0000gn/T/ipykernel_47375/2889998749.py:27: FutureWarning: ``mlflow.tracking.client.MlflowClient.get_latest_versions`` is deprecated since 2.9.0. Model registry stages will be removed in a future major release. To learn more about the deprecation of model registry stages, see our migration guide here: https://mlflow.org/docs/latest/model-registry.html#migrating-from-stages\n",
      "  latest_version = client.get_latest_versions(\"MyModel\", stages=[\"None\"])[0]\n",
      "/var/folders/n_/3_x326jx1px01h5tp8dtcgzw0000gn/T/ipykernel_47375/2889998749.py:28: FutureWarning: ``mlflow.tracking.client.MlflowClient.transition_model_version_stage`` is deprecated since 2.9.0. Model registry stages will be removed in a future major release. To learn more about the deprecation of model registry stages, see our migration guide here: https://mlflow.org/docs/latest/model-registry.html#migrating-from-stages\n",
      "  client.transition_model_version_stage(\n"
     ]
    },
    {
     "name": "stdout",
     "output_type": "stream",
     "text": [
      "🏃 View run auspicious-trout-441 at: https://mlflow-server-199520990934.us-west1.run.app/#/experiments/1/runs/28de08846a5c4b3da66dadd6b843b9ee\n",
      "🧪 View experiment at: https://mlflow-server-199520990934.us-west1.run.app/#/experiments/1\n",
      "✅ Model registered and promoted to Production!\n"
     ]
    }
   ],
   "source": [
    "# Quick registration of an existing trained model\n",
    "import mlflow\n",
    "import mlflow.sklearn\n",
    "\n",
    "# Assuming you already have a trained model called 'your_model'\n",
    "mlflow.set_tracking_uri(\"https://mlflow-server-199520990934.us-west1.run.app\")\n",
    "\n",
    "# Train your model first\n",
    "X, y = make_classification(n_samples=1000, n_features=20, random_state=42)\n",
    "X_train, X_test, y_train, y_test = train_test_split(X, y, test_size=0.2)\n",
    "\n",
    "# This creates your_model\n",
    "your_model = RandomForestClassifier(n_estimators=100, random_state=42)\n",
    "your_model.fit(X_train, y_train)  # Now your_model is trained\n",
    "\n",
    "\n",
    "with mlflow.start_run():\n",
    "    mlflow.sklearn.log_model(\n",
    "        sk_model=your_model,  # Your existing trained model\n",
    "        artifact_path=\"model\",\n",
    "        registered_model_name=\"MyModel\"\n",
    "    )\n",
    "    \n",
    "    # Promote to production\n",
    "    from mlflow.tracking import MlflowClient\n",
    "    client = MlflowClient()\n",
    "    latest_version = client.get_latest_versions(\"MyModel\", stages=[\"None\"])[0]\n",
    "    client.transition_model_version_stage(\n",
    "        name=\"MyModel\",\n",
    "        version=latest_version.version,\n",
    "        stage=\"Production\"\n",
    "    )\n",
    "\n",
    "print(\"✅ Model registered and promoted to Production!\")"
   ]
  },
  {
   "cell_type": "code",
   "execution_count": null,
   "id": "ef29a5aa",
   "metadata": {},
   "outputs": [],
   "source": []
  }
 ],
 "metadata": {
  "kernelspec": {
   "display_name": "mlops",
   "language": "python",
   "name": "python3"
  },
  "language_info": {
   "codemirror_mode": {
    "name": "ipython",
    "version": 3
   },
   "file_extension": ".py",
   "mimetype": "text/x-python",
   "name": "python",
   "nbconvert_exporter": "python",
   "pygments_lexer": "ipython3",
   "version": "3.11.13"
  }
 },
 "nbformat": 4,
 "nbformat_minor": 5
}
